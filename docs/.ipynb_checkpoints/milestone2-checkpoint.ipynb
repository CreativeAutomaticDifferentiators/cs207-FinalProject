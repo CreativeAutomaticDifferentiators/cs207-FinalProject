{
 "cells": [
  {
   "cell_type": "markdown",
   "metadata": {},
   "source": [
    "# Milestone 2 Documenation: Group 6\n",
    "\n",
    "**Team Members:**  \n",
    "Kyra Ballard - *S.M. Applied Computation*  \n",
    "Paul-Emile Landrin - *S.M. Applied Computation*  \n",
    "Yaoyang Lin - *S.M. Applied Computation*  \n",
    "Dan Park - *MS/MBA*  \n",
    "\n",
    "CS 207 - Fall 2019"
   ]
  },
  {
   "cell_type": "markdown",
   "metadata": {},
   "source": [
    "## Introduction\n",
    "\n",
    "This project aims to provide a working library for automatic differentiation. Automatic differentiation is a method for numerically calculating the derivative of a function. Derivative calculations are essential in many modern numerical algorithms, and automatic differentiation is one method that can quickly compute derivatives by executing elementary functions via the chain rule. \n",
    "\n",
    "Compared to other differentiation methods (such as symbolic/analytic differentiation or numerical differentiation), automatic differentiation boasts more efficient calculations and high accuracy to working precision. Symbolic differentiation requires mathematical expressions of derivatives to be kept throughout the process, which can lead to inefficient code. Numerical differentation is heavily reliant on an optimal value of `h`, and too small or big values of `h` can lead to large floating point errors or inaccuracy, respectively. Therefore, automatic differentic differentiation provides efficiency and accuracy advantages (in most cases)."
   ]
  },
  {
   "cell_type": "markdown",
   "metadata": {},
   "source": [
    "## Background\n",
    "\n",
    "As mentioned above, automatic differentiation is centered upon the ability to use the chain rule to decompose derivatives of complex functions to derivatives of elementary functions. \n",
    "\n",
    "The idea of automatic differentiation is to decompose a function into elementary function. To do so, we use a chain of function composition. The forward mode enables to compute values of the function. We can compute the derivatives using the reverse mode or using dual numbers. Dual numbers are basically numbers that are real, the dual number squared is equal to zero. We can single out the derivative of a function by composing the Taylor series of elementary functions. \n"
   ]
  },
  {
   "cell_type": "markdown",
   "metadata": {},
   "source": [
    "## How to Use *OttoDiff*\n",
    "\n",
    "The user installs the package, ideally with pip:"
   ]
  },
  {
   "cell_type": "markdown",
   "metadata": {},
   "source": [
    "`pip install [--upgrade] OttoDiff`"
   ]
  },
  {
   "cell_type": "markdown",
   "metadata": {},
   "source": [
    "Then the user need to check that he/she has the required packages with appropriate version (like numpy==1.16.3) in the requirements.txt.\n",
    "\n",
    "When he/she wants to use it, the user needs to import the package:"
   ]
  },
  {
   "cell_type": "markdown",
   "metadata": {},
   "source": [
    "`import OttoDiff`"
   ]
  },
  {
   "cell_type": "markdown",
   "metadata": {},
   "source": [
    "Then the user defines a function that needs to be differentiated and creates an function object from our package that takes into argument these function. "
   ]
  },
  {
   "cell_type": "markdown",
   "metadata": {},
   "source": [
    "## Software Organization\n",
    "\n",
    "Directory structure:\n",
    "```\n",
    "OttoDiff/\n",
    "\t__init__.py\n",
    "\tREADME.md\n",
    "\trequirements.txt\n",
    "\tsetup.py\n",
    "\tTest/\n",
    "\tUtility/\n",
    "\t\tforward.py\n",
    "\t\treverse.py\n",
    "\t\tduals.py\n",
    "\t\tadvanced_features.py\n",
    "\tDocs/\n",
    "\t\tmilestone1.md\n",
    "```"
   ]
  },
  {
   "cell_type": "markdown",
   "metadata": {},
   "source": [
    "The names of the modules speak for their functionality. We use different modules to make it easier to work at the same time on different codes. We don’t have choose our idea for advanced feature yet. We will try to use the two test suite TravisCI and CodeCov then select only the best to use. We will distribute our package on Pypi, it is also a setup tool that will package our software. Hence users can use the pip install command."
   ]
  },
  {
   "cell_type": "markdown",
   "metadata": {},
   "source": [
    "## Implementation\n",
    "\n",
    "We will use the basic data structures on python. We will implement a dual number class, and a function class. The function class will have attributes to evaluate the values of the function and of its derivatives. The dual class will have two attributes for the real and the imaginary part.\n",
    "\n",
    "We will rely on numpy for some evaluations, notably for the elementary functions. To handle their derivatives, we will use two methods. The first one is with the dual numbers and we will use the well-known taylor series of this elementary functions. The second method is to use their symbolic derivatives which are also well known.\n"
   ]
  },
  {
   "cell_type": "code",
   "execution_count": null,
   "metadata": {},
   "outputs": [],
   "source": []
  }
 ],
 "metadata": {
  "kernelspec": {
   "display_name": "Python 3",
   "language": "python",
   "name": "python3"
  },
  "language_info": {
   "codemirror_mode": {
    "name": "ipython",
    "version": 3
   },
   "file_extension": ".py",
   "mimetype": "text/x-python",
   "name": "python",
   "nbconvert_exporter": "python",
   "pygments_lexer": "ipython3",
   "version": "3.7.3"
  }
 },
 "nbformat": 4,
 "nbformat_minor": 2
}
